{
  "nbformat": 4,
  "nbformat_minor": 0,
  "metadata": {
    "colab": {
      "provenance": [],
      "authorship_tag": "ABX9TyMHMO5UxDyq8y+8pEgGvdoy",
      "include_colab_link": true
    },
    "kernelspec": {
      "name": "python3",
      "display_name": "Python 3"
    },
    "language_info": {
      "name": "python"
    }
  },
  "cells": [
    {
      "cell_type": "markdown",
      "metadata": {
        "id": "view-in-github",
        "colab_type": "text"
      },
      "source": [
        "<a href=\"https://colab.research.google.com/github/harish-03-11/nlp-parts-of-speech/blob/main/Nlp_Parts_of_speech.ipynb\" target=\"_parent\"><img src=\"https://colab.research.google.com/assets/colab-badge.svg\" alt=\"Open In Colab\"/></a>"
      ]
    },
    {
      "cell_type": "code",
      "execution_count": 1,
      "metadata": {
        "id": "nyH7AqjcndnV"
      },
      "outputs": [],
      "source": [
        "import spacy"
      ]
    },
    {
      "cell_type": "code",
      "source": [
        "nlp = spacy.load(\"en_core_web_sm\")"
      ],
      "metadata": {
        "id": "DS1RHQXjnlWx"
      },
      "execution_count": 2,
      "outputs": []
    },
    {
      "cell_type": "code",
      "source": [
        "doc = nlp('Elon Musk is a renowned entrepreneur known for his innovative ventures, including Tesla, SpaceX, and Neuralink')"
      ],
      "metadata": {
        "id": "8-p6NFLxnqSr"
      },
      "execution_count": 3,
      "outputs": []
    },
    {
      "cell_type": "code",
      "source": [
        "for token in doc:\n",
        "  print(token , token.pos_)"
      ],
      "metadata": {
        "colab": {
          "base_uri": "https://localhost:8080/"
        },
        "id": "ETKxbQgvodta",
        "outputId": "e4d33bcb-82c9-4f33-9452-8d3fd7184587"
      },
      "execution_count": 4,
      "outputs": [
        {
          "output_type": "stream",
          "name": "stdout",
          "text": [
            "Elon PROPN\n",
            "Musk PROPN\n",
            "is AUX\n",
            "a DET\n",
            "renowned ADJ\n",
            "entrepreneur NOUN\n",
            "known VERB\n",
            "for ADP\n",
            "his PRON\n",
            "innovative ADJ\n",
            "ventures NOUN\n",
            ", PUNCT\n",
            "including VERB\n",
            "Tesla PROPN\n",
            ", PUNCT\n",
            "SpaceX PROPN\n",
            ", PUNCT\n",
            "and CCONJ\n",
            "Neuralink PROPN\n"
          ]
        }
      ]
    },
    {
      "cell_type": "code",
      "source": [
        "doc = nlp('Marvel Comics is a popular American comic book publisher known for its iconic superheroes like Spider-Man, Iron Man, and Captain America')\n",
        "\n",
        "for token in doc:\n",
        "  print(token, ' | ' , token.pos_ , ' | ', spacy.explain(token.pos_), ' | ', token.tag_, ' | ' , spacy.explain(token.tag_) )"
      ],
      "metadata": {
        "colab": {
          "base_uri": "https://localhost:8080/"
        },
        "id": "W5xIE3J4og_c",
        "outputId": "e80083fc-9098-48ea-e9f3-008151c1df3d"
      },
      "execution_count": 5,
      "outputs": [
        {
          "output_type": "stream",
          "name": "stdout",
          "text": [
            "Marvel  |  PROPN  |  proper noun  |  NNP  |  noun, proper singular\n",
            "Comics  |  PROPN  |  proper noun  |  NNPS  |  noun, proper plural\n",
            "is  |  AUX  |  auxiliary  |  VBZ  |  verb, 3rd person singular present\n",
            "a  |  DET  |  determiner  |  DT  |  determiner\n",
            "popular  |  ADJ  |  adjective  |  JJ  |  adjective (English), other noun-modifier (Chinese)\n",
            "American  |  ADJ  |  adjective  |  JJ  |  adjective (English), other noun-modifier (Chinese)\n",
            "comic  |  ADJ  |  adjective  |  JJ  |  adjective (English), other noun-modifier (Chinese)\n",
            "book  |  NOUN  |  noun  |  NN  |  noun, singular or mass\n",
            "publisher  |  NOUN  |  noun  |  NN  |  noun, singular or mass\n",
            "known  |  VERB  |  verb  |  VBN  |  verb, past participle\n",
            "for  |  ADP  |  adposition  |  IN  |  conjunction, subordinating or preposition\n",
            "its  |  PRON  |  pronoun  |  PRP$  |  pronoun, possessive\n",
            "iconic  |  ADJ  |  adjective  |  JJ  |  adjective (English), other noun-modifier (Chinese)\n",
            "superheroes  |  NOUN  |  noun  |  NNS  |  noun, plural\n",
            "like  |  ADP  |  adposition  |  IN  |  conjunction, subordinating or preposition\n",
            "Spider  |  PROPN  |  proper noun  |  NNP  |  noun, proper singular\n",
            "-  |  PUNCT  |  punctuation  |  HYPH  |  punctuation mark, hyphen\n",
            "Man  |  PROPN  |  proper noun  |  NNP  |  noun, proper singular\n",
            ",  |  PUNCT  |  punctuation  |  ,  |  punctuation mark, comma\n",
            "Iron  |  PROPN  |  proper noun  |  NNP  |  noun, proper singular\n",
            "Man  |  PROPN  |  proper noun  |  NNP  |  noun, proper singular\n",
            ",  |  PUNCT  |  punctuation  |  ,  |  punctuation mark, comma\n",
            "and  |  CCONJ  |  coordinating conjunction  |  CC  |  conjunction, coordinating\n",
            "Captain  |  PROPN  |  proper noun  |  NNP  |  noun, proper singular\n",
            "America  |  PROPN  |  proper noun  |  NNP  |  noun, proper singular\n"
          ]
        }
      ]
    },
    {
      "cell_type": "code",
      "source": [
        "earnings_text = \"\"\"Microsoft Corp. today announced the following results for the quarter ended June 30, 2024, as compared to the corresponding period of last fiscal year:\n",
        "\n",
        "·        Revenue was $64.7 billion and increased 15% (up 16% in constant currency)\n",
        "\n",
        "·        Operating income was $27.9 billion : and increased 15% (up 16% in : constant etc currency)\n",
        "\n",
        "·        Net income was $22.0 billion and increased 10% (up 11% in constant currency)\n",
        "\n",
        "·        Diluted earnings per share was $2.95 and increased 10% (up 11% in constant currency)\n",
        "\n",
        "“Our strong performance this fiscal year speaks both to our innovation and to the trust customers continue to place in Microsoft,\" said Satya Nadella, chairman and chief executive officer of Microsoft. “As a platform company, we are focused on meeting the mission-critical needs of our customers across our at-scale platforms today, while also ensuring we lead the AI era.\"\"\""
      ],
      "metadata": {
        "id": "zAtRffU8sYPj"
      },
      "execution_count": 6,
      "outputs": []
    },
    {
      "cell_type": "code",
      "source": [
        "doc = nlp(earnings_text)\n",
        "filter = []\n",
        "for token in doc:\n",
        "  if token.pos_ not in [\"SPACE\", \"PUNCT\", \"X\"]:\n",
        "    filter.append(token)\n",
        "\n"
      ],
      "metadata": {
        "id": "k-d-b1Bctkcn"
      },
      "execution_count": 7,
      "outputs": []
    },
    {
      "cell_type": "code",
      "source": [
        "filter[:20]"
      ],
      "metadata": {
        "colab": {
          "base_uri": "https://localhost:8080/"
        },
        "id": "hFObICfMubTY",
        "outputId": "1c315043-304e-414a-f1b6-92a5ecbb0fce"
      },
      "execution_count": 8,
      "outputs": [
        {
          "output_type": "execute_result",
          "data": {
            "text/plain": [
              "[Microsoft,\n",
              " Corp.,\n",
              " today,\n",
              " announced,\n",
              " the,\n",
              " following,\n",
              " results,\n",
              " for,\n",
              " the,\n",
              " quarter,\n",
              " ended,\n",
              " June,\n",
              " 30,\n",
              " 2024,\n",
              " as,\n",
              " compared,\n",
              " to,\n",
              " the,\n",
              " corresponding,\n",
              " period]"
            ]
          },
          "metadata": {},
          "execution_count": 8
        }
      ]
    },
    {
      "cell_type": "code",
      "source": [
        "3384000*3"
      ],
      "metadata": {
        "colab": {
          "base_uri": "https://localhost:8080/"
        },
        "id": "MeAQYw_2wlG0",
        "outputId": "f4bc3cb0-9e48-4352-80e4-05c6987b49e3"
      },
      "execution_count": 9,
      "outputs": [
        {
          "output_type": "execute_result",
          "data": {
            "text/plain": [
              "10152000"
            ]
          },
          "metadata": {},
          "execution_count": 9
        }
      ]
    },
    {
      "cell_type": "code",
      "source": [
        "earnings_new = \"\"\"Google parent company Alphabet reported earnings after the bell.\n",
        "Alphabet’s revenue was up 14% year over year, driven by search as well as cloud, which surpassed $10 billion in quarterly revenues and $1 billion in operating profit for the first time.\n",
        "The company reported ad revenue of $64.62 billion — up from $58.14 billion last year, showing that Google’s advertising business continues to grow after rising inflation and interest rates tightened marketing budgets in 2022 and 2023.\"\"\""
      ],
      "metadata": {
        "id": "JcrIhvIB9WBq"
      },
      "execution_count": 10,
      "outputs": []
    },
    {
      "cell_type": "code",
      "source": [
        "doc = nlp(earnings_new)"
      ],
      "metadata": {
        "id": "zZ0rXjW2RFc6"
      },
      "execution_count": 13,
      "outputs": []
    },
    {
      "cell_type": "code",
      "source": [
        "box = []\n",
        "\n",
        "for tok in doc:\n",
        "  if tok.pos_ not in [\"PUNCT\", \"X\", \"SPACE\"]:\n",
        "    box.append(tok)\n",
        "print(box)"
      ],
      "metadata": {
        "colab": {
          "base_uri": "https://localhost:8080/"
        },
        "id": "Ep1fSuxBRHl1",
        "outputId": "aecddbcb-2e6a-4c04-b581-703d3f5b8601"
      },
      "execution_count": 16,
      "outputs": [
        {
          "output_type": "stream",
          "name": "stdout",
          "text": [
            "[Google, parent, company, Alphabet, reported, earnings, after, the, bell, Alphabet, ’s, revenue, was, up, 14, %, year, over, year, driven, by, search, as, well, as, cloud, which, surpassed, $, 10, billion, in, quarterly, revenues, and, $, 1, billion, in, operating, profit, for, the, first, time, The, company, reported, ad, revenue, of, $, 64.62, billion, up, from, $, 58.14, billion, last, year, showing, that, Google, ’s, advertising, business, continues, to, grow, after, rising, inflation, and, interest, rates, tightened, marketing, budgets, in, 2022, and, 2023]\n"
          ]
        }
      ]
    },
    {
      "cell_type": "code",
      "source": [],
      "metadata": {
        "id": "l11mQSYERX3F"
      },
      "execution_count": null,
      "outputs": []
    }
  ]
}